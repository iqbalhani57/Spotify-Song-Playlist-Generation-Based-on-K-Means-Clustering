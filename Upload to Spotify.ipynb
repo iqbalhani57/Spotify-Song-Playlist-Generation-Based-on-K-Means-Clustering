{
 "cells": [
  {
   "cell_type": "code",
   "execution_count": null,
   "metadata": {},
   "outputs": [],
   "source": [
    "import spotipy\n",
    "from spotipy.oauth2 import SpotifyOAuth\n",
    "import pandas as pd\n",
    "\n",
    "\n",
    "df = pd.read_csv(\"Data/Data Upload.csv.csv\")  \n",
    "\n",
    "\n",
    "SPOTIPY_CLIENT_ID = \"your_client_id\"\n",
    "SPOTIPY_CLIENT_SECRET = \"your_client_secret\"\n",
    "SPOTIPY_REDIRECT_URI = \"http://localhost:8888/callback\" \n",
    "\n",
    "\n",
    "scope = \"playlist-modify-public\"\n",
    "sp = spotipy.Spotify(auth_manager=SpotifyOAuth(client_id=SPOTIPY_CLIENT_ID,\n",
    "                                               client_secret=SPOTIPY_CLIENT_SECRET,\n",
    "                                               redirect_uri=SPOTIPY_REDIRECT_URI,\n",
    "                                               scope=scope))\n",
    "\n",
    "\n",
    "user_id = sp.current_user()[\"id\"]\n",
    "\n",
    "\n",
    "clusters = df[\"Cluster\"].unique()\n",
    "\n",
    "for cluster in clusters:\n",
    "\n",
    "    cluster_songs = df[df[\"Cluster\"] == cluster]\n",
    "\n",
    "    playlist_name = f\"Cluster {cluster} Playlist\"\n",
    "    playlist_description = f\"Auto-generated playlist for Cluster {cluster}\"\n",
    "\n",
    "    playlist = sp.user_playlist_create(user=user_id, name=playlist_name, public=True, description=playlist_description)\n",
    "    playlist_id = playlist[\"id\"]\n",
    "\n",
    "    track_ids = cluster_songs[\"id\"].tolist()\n",
    "\n",
    "    sp.playlist_add_items(playlist_id, track_ids)\n",
    "    \n",
    "    print(f\"Playlist '{playlist_name}' created with {len(track_ids)} songs.\")\n",
    "\n",
    "print(\" All playlists have been successfully created!\")\n"
   ]
  }
 ],
 "metadata": {
  "language_info": {
   "name": "python"
  }
 },
 "nbformat": 4,
 "nbformat_minor": 2
}
